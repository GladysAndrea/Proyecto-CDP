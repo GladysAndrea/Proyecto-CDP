{
 "cells": [
  {
   "cell_type": "markdown",
   "metadata": {},
   "source": [
    "## Proyecto"
   ]
  },
  {
   "cell_type": "code",
   "execution_count": null,
   "metadata": {},
   "outputs": [],
   "source": [
    "## Importando librerías\n",
    "import pandas as pd\n",
    "import numpy as np\n",
    "##from glob import glob\n",
    "\n",
    "import matplotlib.pyplot as plt\n",
    "## para hacer gráficos\n",
    "%matplotlib inline\n",
    "plt.style.use('ggplot')\n",
    "plt.rcParams['figure.figsize'] = (16, 9)\n",
    "import seaborn as sns\n",
    "\n",
    "from sklearn import linear_model\n",
    "from sklearn.model_selection import train_test_split"
   ]
  },
  {
   "cell_type": "code",
   "execution_count": null,
   "metadata": {},
   "outputs": [],
   "source": [
    "## Ingresando archivos\n",
    "\n",
    "import pandas as pd\n",
    "df = pd.read_csv('Data_1.csv', delimiter=\",\")\n",
    "##print(df)\n",
    "data = pd.DataFrame(df)\n",
    "\n",
    "data"
   ]
  },
  {
   "cell_type": "code",
   "execution_count": null,
   "metadata": {},
   "outputs": [],
   "source": [
    "# Analizando Data Set\n",
    "data.describe()"
   ]
  },
  {
   "cell_type": "markdown",
   "metadata": {},
   "source": [
    "### División Dataset"
   ]
  },
  {
   "cell_type": "code",
   "execution_count": null,
   "metadata": {},
   "outputs": [],
   "source": [
    "#Seleccion de datos\n",
    "x = data[\"x\"]\n",
    "y = data[\"y\"]\n",
    "\n",
    "## Division de datos\n",
    "X_train, X_test, y_train, y_test = train_test_split(x, y, test_size=0.20)\n",
    "\n",
    "# Visualizando el dataset Train\n",
    "print(X_train)\n",
    "print(y_train)\n",
    "\n",
    "# Visualizando el dataset Test\n",
    "print(X_test)\n",
    "print(y_test)"
   ]
  },
  {
   "cell_type": "code",
   "execution_count": null,
   "metadata": {},
   "outputs": [],
   "source": [
    "# Creando DataSets\n",
    "dataTest= pd.DataFrame() \n",
    "dataTrain= pd.DataFrame() \n",
    "\n",
    "\n",
    "dataTrain['x'] = X_train\n",
    "dataTrain['y'] = y_train\n",
    "dataTrain\n",
    "\n",
    "dataTest['x'] = X_test\n",
    "dataTest['y'] = y_test\n",
    "dataTest"
   ]
  },
  {
   "cell_type": "markdown",
   "metadata": {},
   "source": [
    "#### Analizando DataTrain"
   ]
  },
  {
   "cell_type": "code",
   "execution_count": null,
   "metadata": {},
   "outputs": [],
   "source": [
    "dataTrain.describe()"
   ]
  },
  {
   "cell_type": "code",
   "execution_count": null,
   "metadata": {},
   "outputs": [],
   "source": [
    "dataTrain.hist()\n",
    "plt.show()"
   ]
  },
  {
   "cell_type": "code",
   "execution_count": null,
   "metadata": {},
   "outputs": [],
   "source": [
    "ax = sns.distplot(x, rug=True, rug_kws={\"color\": \"g\"},\n",
    "                  kde_kws={\"color\": \"k\", \"lw\": 3, \"label\": \"KDE\"},\n",
    "                  hist_kws={\"histtype\": \"step\", \"linewidth\": 3,\n",
    "                            \"alpha\": 1, \"color\": \"g\"})"
   ]
  },
  {
   "cell_type": "code",
   "execution_count": null,
   "metadata": {},
   "outputs": [],
   "source": [
    "xcorr = dataTrain[\"x\"]\n",
    "ycorr = dataTrain[\"y\"] \n",
    "## creando correlacion y covarianza\n",
    "print(ycorr.corr(xcorr),ycorr.cov(xcorr))"
   ]
  },
  {
   "cell_type": "code",
   "execution_count": 29,
   "metadata": {},
   "outputs": [
    {
     "data": {
      "image/png": "[encoded data removed]",
      "text/plain": [
       "<Figure size 1152x648 with 1 Axes>"
      ]
     },
     "metadata": {},
     "output_type": "display_data"
    }
   ],
   "source": [
    "## Graficando Correlacion\n",
    "x = dataTrain[\"x\"]\n",
    "y = dataTrain[\"y\"]\n",
    "\n",
    "plt.scatter(x,y)\n",
    "plt.xlabel(\"Valor x\")\n",
    "plt.ylabel(\"Valor y\")\n",
    "plt.show()"
   ]
  },
  {
   "cell_type": "markdown",
   "metadata": {},
   "source": [
    "### Regresion: DataTrain"
   ]
  },
  {
   "cell_type": "code",
   "execution_count": 62,
   "metadata": {},
   "outputs": [],
   "source": [
    "#funcion para calcular nuevos valores\n",
    "def Calcular(ciclo,betacero,betauno,alfa):\n",
    "    datatemp = pd.DataFrame(DataPaso[DataPaso['Ciclo']==ciclo])    \n",
    "    ResultadoError=datatemp['ErrorCuadrado'].sum()/(len(datatemp)*2)\n",
    "    GradienteBeta1=datatemp['GradienteBeta1'].mean()\n",
    "    GradienteBeta0=datatemp['Error'].mean()\n",
    "    nuevoBeta0=betacero-alfa*datatemp['Error'].mean()\n",
    "    nuevoBeta1=betauno-alfa*datatemp['GradienteBeta1'].mean()    \n",
    "    return betacero,betauno,alfa,ResultadoError,GradienteBeta1,GradienteBeta0,nuevoBeta0,nuevoBeta1\n"
   ]
  },
  {
   "cell_type": "markdown",
   "metadata": {},
   "source": [
    "#### llenado de dataframe (DataTrain)... con valores calculdos en la funcipn"
   ]
  },
  {
   "cell_type": "code",
   "execution_count": 63,
   "metadata": {},
   "outputs": [],
   "source": [
    "Interacciones = pd.DataFrame(columns=['NumInteraccion', 'Beta0','Beta1','Alfa', 'ResultadoError','GradienteBeta1','GradienteBeta0','nuevoBeta0','nuevoBeta1'])\n",
    "\n",
    "for i in range(10):\n",
    "       if Interacciones.empty==True:\n",
    "            alfa=0.15\n",
    "            betacero=15\n",
    "            betauno=1\n",
    "            DataPaso=pd.DataFrame(columns=['x', 'y','Ciclo','EstimadoY', 'Error','ErrorCuadrado','GradienteBeta1'])\n",
    "            DataPaso['x']=dataTrain['x']\n",
    "            DataPaso['y']=dataTrain['y']\n",
    "            DataPaso['Ciclo']=i\n",
    "            DataPaso['EstimadoY']=dataTrain['x']*betauno+betacero\n",
    "            DataPaso['Error']    =dataTrain['y']-DataPaso['EstimadoY']\n",
    "            DataPaso['ErrorCuadrado']=DataPaso['Error']*DataPaso['Error']\n",
    "            DataPaso['GradienteBeta1']=(DataPaso['EstimadoY']-dataTrain['y'])*dataTrain['x']\n",
    "            Interacciones=Interacciones.append(pd.Series([i,\n",
    "                                                            pd.Series(Calcular(i,betacero,betauno,alfa))[0],\n",
    "                                                            pd.Series(Calcular(i,betacero,betauno,alfa))[1],\n",
    "                                                            pd.Series(Calcular(i,betacero,betauno,alfa))[2],\n",
    "                                                            pd.Series(Calcular(i,betacero,betauno,alfa))[3],\n",
    "                                                            pd.Series(Calcular(i,betacero,betauno,alfa))[4],\n",
    "                                                            pd.Series(Calcular(i,betacero,betauno,alfa))[5],\n",
    "                                                            pd.Series(Calcular(i,betacero,betauno,alfa))[6],\n",
    "                                                            pd.Series(Calcular(i,betacero,betauno,alfa))[7]\n",
    "                                                            ],index=['NumInteraccion','Beta0','Beta1','Alfa','ResultadoError','GradienteBeta1','GradienteBeta0','nuevoBeta0','nuevoBeta1']),ignore_index=True)\n",
    "            \n",
    "            \n",
    "           \n",
    "       else:\n",
    "            DataPaso=pd.DataFrame(columns=['x', 'y','Ciclo','EstimadoY', 'Error','ErrorCuadrado','GradienteBeta1'])\n",
    "            betacero=Interacciones.loc[Interacciones.index[-1], 'nuevoBeta0']\n",
    "            betauno=Interacciones.loc[Interacciones.index[-1], 'nuevoBeta1']\n",
    "            DataPaso['x']=dataTrain['x']\n",
    "            DataPaso['y']=dataTrain['y']\n",
    "            DataPaso['Ciclo']=i\n",
    "            DataPaso['EstimadoY']=dataTrain['x']*betauno+betacero\n",
    "            DataPaso['Error']    =dataTrain['y']-DataPaso['EstimadoY']\n",
    "            DataPaso['ErrorCuadrado']=DataPaso['Error']*DataPaso['Error']\n",
    "            DataPaso['GradienteBeta1']=(DataPaso['EstimadoY']-dataTrain['y'])*dataTrain['x']\n",
    "            Interacciones=Interacciones.append(pd.Series([i,\n",
    "                                                            pd.Series(Calcular(i,betacero,betauno,alfa))[0],\n",
    "                                                            pd.Series(Calcular(i,betacero,betauno,alfa))[1],\n",
    "                                                            pd.Series(Calcular(i,betacero,betauno,alfa))[2],\n",
    "                                                            pd.Series(Calcular(i,betacero,betauno,alfa))[3],\n",
    "                                                            pd.Series(Calcular(i,betacero,betauno,alfa))[4],\n",
    "                                                            pd.Series(Calcular(i,betacero,betauno,alfa))[5],\n",
    "                                                            pd.Series(Calcular(i,betacero,betauno,alfa))[6],\n",
    "                                                            pd.Series(Calcular(i,betacero,betauno,alfa))[7]\n",
    "                                                            ],index=['NumInteraccion','Beta0','Beta1','Alfa','ResultadoError','GradienteBeta1','GradienteBeta0','nuevoBeta0','nuevoBeta1']),ignore_index=True)\n",
    "            \n"
   ]
  },
  {
   "cell_type": "code",
   "execution_count": 41,
   "metadata": {},
   "outputs": [
    {
     "data": {
      "text/html": [
       "<div>\n",
       "<style scoped>\n",
       "    .dataframe tbody tr th:only-of-type {\n",
       "        vertical-align: middle;\n",
       "    }\n",
       "\n",
       "    .dataframe tbody tr th {\n",
       "        vertical-align: top;\n",
       "    }\n",
       "\n",
       "    .dataframe thead th {\n",
       "        text-align: right;\n",
       "    }\n",
       "</style>\n",
       "<table border=\"1\" class=\"dataframe\">\n",
       "  <thead>\n",
       "    <tr style=\"text-align: right;\">\n",
       "      <th></th>\n",
       "      <th>NumInteraccion</th>\n",
       "      <th>Beta0</th>\n",
       "      <th>Beta1</th>\n",
       "      <th>Alfa</th>\n",
       "      <th>ResultadoError</th>\n",
       "      <th>GradienteBeta1</th>\n",
       "      <th>GradienteBeta0</th>\n",
       "      <th>nuevoBeta0</th>\n",
       "      <th>nuevoBeta1</th>\n",
       "    </tr>\n",
       "  </thead>\n",
       "  <tbody>\n",
       "    <tr>\n",
       "      <th>0</th>\n",
       "      <td>0.0</td>\n",
       "      <td>15.000000</td>\n",
       "      <td>1.000000</td>\n",
       "      <td>0.15</td>\n",
       "      <td>167.750000</td>\n",
       "      <td>-68.250000</td>\n",
       "      <td>14.000000</td>\n",
       "      <td>12.900000</td>\n",
       "      <td>11.237500</td>\n",
       "    </tr>\n",
       "    <tr>\n",
       "      <th>1</th>\n",
       "      <td>1.0</td>\n",
       "      <td>12.900000</td>\n",
       "      <td>11.237500</td>\n",
       "      <td>0.15</td>\n",
       "      <td>237.649648</td>\n",
       "      <td>83.081250</td>\n",
       "      <td>-19.731250</td>\n",
       "      <td>15.859687</td>\n",
       "      <td>-1.224687</td>\n",
       "    </tr>\n",
       "    <tr>\n",
       "      <th>2</th>\n",
       "      <td>2.0</td>\n",
       "      <td>15.859687</td>\n",
       "      <td>-1.224687</td>\n",
       "      <td>0.15</td>\n",
       "      <td>339.581519</td>\n",
       "      <td>-99.723750</td>\n",
       "      <td>20.926719</td>\n",
       "      <td>12.720680</td>\n",
       "      <td>13.733875</td>\n",
       "    </tr>\n",
       "    <tr>\n",
       "      <th>3</th>\n",
       "      <td>3.0</td>\n",
       "      <td>12.720680</td>\n",
       "      <td>13.733875</td>\n",
       "      <td>0.15</td>\n",
       "      <td>488.259823</td>\n",
       "      <td>121.147441</td>\n",
       "      <td>-28.289242</td>\n",
       "      <td>16.964066</td>\n",
       "      <td>-4.438241</td>\n",
       "    </tr>\n",
       "    <tr>\n",
       "      <th>4</th>\n",
       "      <td>4.0</td>\n",
       "      <td>16.964066</td>\n",
       "      <td>-4.438241</td>\n",
       "      <td>0.15</td>\n",
       "      <td>705.160212</td>\n",
       "      <td>-145.668508</td>\n",
       "      <td>31.069778</td>\n",
       "      <td>12.303599</td>\n",
       "      <td>17.412035</td>\n",
       "    </tr>\n",
       "    <tr>\n",
       "      <th>5</th>\n",
       "      <td>5.0</td>\n",
       "      <td>12.303599</td>\n",
       "      <td>17.412035</td>\n",
       "      <td>0.15</td>\n",
       "      <td>1021.626939</td>\n",
       "      <td>176.699139</td>\n",
       "      <td>-40.745722</td>\n",
       "      <td>18.415458</td>\n",
       "      <td>-9.092836</td>\n",
       "    </tr>\n",
       "    <tr>\n",
       "      <th>6</th>\n",
       "      <td>6.0</td>\n",
       "      <td>18.415458</td>\n",
       "      <td>-9.092836</td>\n",
       "      <td>0.15</td>\n",
       "      <td>1483.407901</td>\n",
       "      <td>-212.734856</td>\n",
       "      <td>45.909468</td>\n",
       "      <td>11.529037</td>\n",
       "      <td>22.817392</td>\n",
       "    </tr>\n",
       "    <tr>\n",
       "      <th>7</th>\n",
       "      <td>7.0</td>\n",
       "      <td>11.529037</td>\n",
       "      <td>22.817392</td>\n",
       "      <td>0.15</td>\n",
       "      <td>2157.273731</td>\n",
       "      <td>257.771213</td>\n",
       "      <td>-58.889911</td>\n",
       "      <td>20.362524</td>\n",
       "      <td>-15.848290</td>\n",
       "    </tr>\n",
       "    <tr>\n",
       "      <th>8</th>\n",
       "      <td>8.0</td>\n",
       "      <td>20.362524</td>\n",
       "      <td>-15.848290</td>\n",
       "      <td>0.15</td>\n",
       "      <td>3140.678674</td>\n",
       "      <td>-310.629654</td>\n",
       "      <td>67.606489</td>\n",
       "      <td>10.221550</td>\n",
       "      <td>30.746159</td>\n",
       "    </tr>\n",
       "    <tr>\n",
       "      <th>9</th>\n",
       "      <td>9.0</td>\n",
       "      <td>10.221550</td>\n",
       "      <td>30.746159</td>\n",
       "      <td>0.15</td>\n",
       "      <td>4575.861057</td>\n",
       "      <td>376.090884</td>\n",
       "      <td>-85.333105</td>\n",
       "      <td>23.021516</td>\n",
       "      <td>-25.667474</td>\n",
       "    </tr>\n",
       "  </tbody>\n",
       "</table>\n",
       "</div>"
      ],
      "text/plain": [
       "   NumInteraccion      Beta0      Beta1  Alfa  ResultadoError  GradienteBeta1  \\\n",
       "0             0.0  15.000000   1.000000  0.15      167.750000      -68.250000   \n",
       "1             1.0  12.900000  11.237500  0.15      237.649648       83.081250   \n",
       "2             2.0  15.859687  -1.224687  0.15      339.581519      -99.723750   \n",
       "3             3.0  12.720680  13.733875  0.15      488.259823      121.147441   \n",
       "4             4.0  16.964066  -4.438241  0.15      705.160212     -145.668508   \n",
       "5             5.0  12.303599  17.412035  0.15     1021.626939      176.699139   \n",
       "6             6.0  18.415458  -9.092836  0.15     1483.407901     -212.734856   \n",
       "7             7.0  11.529037  22.817392  0.15     2157.273731      257.771213   \n",
       "8             8.0  20.362524 -15.848290  0.15     3140.678674     -310.629654   \n",
       "9             9.0  10.221550  30.746159  0.15     4575.861057      376.090884   \n",
       "\n",
       "   GradienteBeta0  nuevoBeta0  nuevoBeta1  \n",
       "0       14.000000   12.900000   11.237500  \n",
       "1      -19.731250   15.859687   -1.224687  \n",
       "2       20.926719   12.720680   13.733875  \n",
       "3      -28.289242   16.964066   -4.438241  \n",
       "4       31.069778   12.303599   17.412035  \n",
       "5      -40.745722   18.415458   -9.092836  \n",
       "6       45.909468   11.529037   22.817392  \n",
       "7      -58.889911   20.362524  -15.848290  \n",
       "8       67.606489   10.221550   30.746159  \n",
       "9      -85.333105   23.021516  -25.667474  "
      ]
     },
     "execution_count": 41,
     "metadata": {},
     "output_type": "execute_result"
    }
   ],
   "source": [
    "#resultado de interacciones: pero me da error con mas de 25 ciclos..\n",
    "\n",
    "Interacciones"
   ]
  },
  {
   "cell_type": "code",
   "execution_count": 65,
   "metadata": {},
   "outputs": [
    {
     "data": {
      "text/html": [
       "<div>\n",
       "<style scoped>\n",
       "    .dataframe tbody tr th:only-of-type {\n",
       "        vertical-align: middle;\n",
       "    }\n",
       "\n",
       "    .dataframe tbody tr th {\n",
       "        vertical-align: top;\n",
       "    }\n",
       "\n",
       "    .dataframe thead th {\n",
       "        text-align: right;\n",
       "    }\n",
       "</style>\n",
       "<table border=\"1\" class=\"dataframe\">\n",
       "  <thead>\n",
       "    <tr style=\"text-align: right;\">\n",
       "      <th></th>\n",
       "      <th>NumInteraccion</th>\n",
       "      <th>Beta0</th>\n",
       "      <th>Beta1</th>\n",
       "      <th>Alfa</th>\n",
       "      <th>ResultadoError</th>\n",
       "      <th>GradienteBeta1</th>\n",
       "      <th>GradienteBeta0</th>\n",
       "      <th>nuevoBeta0</th>\n",
       "      <th>nuevoBeta1</th>\n",
       "    </tr>\n",
       "  </thead>\n",
       "  <tbody>\n",
       "    <tr>\n",
       "      <th>0</th>\n",
       "      <td>0.0</td>\n",
       "      <td>15.0</td>\n",
       "      <td>1.0</td>\n",
       "      <td>0.15</td>\n",
       "      <td>167.75</td>\n",
       "      <td>-68.25</td>\n",
       "      <td>14.0</td>\n",
       "      <td>12.9</td>\n",
       "      <td>11.2375</td>\n",
       "    </tr>\n",
       "  </tbody>\n",
       "</table>\n",
       "</div>"
      ],
      "text/plain": [
       "   NumInteraccion  Beta0  Beta1  Alfa  ResultadoError  GradienteBeta1  \\\n",
       "0             0.0   15.0    1.0  0.15          167.75          -68.25   \n",
       "\n",
       "   GradienteBeta0  nuevoBeta0  nuevoBeta1  \n",
       "0            14.0        12.9     11.2375  "
      ]
     },
     "execution_count": 65,
     "metadata": {},
     "output_type": "execute_result"
    }
   ],
   "source": [
    "betaTrain= pd.DataFrame() \n",
    "\n",
    "df = Interacciones['ResultadoError'] <= min(Interacciones.ResultadoError)\n",
    "betaTrain=Interacciones.loc[df]\n",
    "betaTrain"
   ]
  },
  {
   "cell_type": "code",
   "execution_count": 71,
   "metadata": {},
   "outputs": [
    {
     "data": {
      "text/plain": [
       "1.0"
      ]
     },
     "execution_count": 71,
     "metadata": {},
     "output_type": "execute_result"
    }
   ],
   "source": [
    "#a= betaTrain['Beta0']\n",
    "a=max(betaTrain.Beta0)\n",
    "a\n",
    "#b= betaTrain['Beta1']\n",
    "b=max(betaTrain.Beta1)\n",
    "b"
   ]
  },
  {
   "cell_type": "markdown",
   "metadata": {},
   "source": [
    "### Graficando Regresión DataTrain"
   ]
  },
  {
   "cell_type": "code",
   "execution_count": 72,
   "metadata": {},
   "outputs": [
    {
     "data": {
      "text/plain": [
       "<function matplotlib.pyplot.show(close=None, block=None)>"
      ]
     },
     "execution_count": 72,
     "metadata": {},
     "output_type": "execute_result"
    },
    {
     "data": {
      "image/png": "[encoded data removed]",
      "text/plain": [
       "<Figure size 1152x648 with 1 Axes>"
      ]
     },
     "metadata": {},
     "output_type": "display_data"
    }
   ],
   "source": [
    "plt.plot(x,y,'o',label='Datos')\n",
    "plt.plot(x, b*x + a, label='Ajustes')\n",
    "plt.xlabel('x')\n",
    "plt.ylabel('y')\n",
    "plt.title('Regresión')\n",
    "plt.grid()\n",
    "plt.legend()\n",
    "plt.show"
   ]
  },
  {
   "cell_type": "code",
   "execution_count": null,
   "metadata": {},
   "outputs": [],
   "source": []
  }
 ],
 "metadata": {
  "kernelspec": {
   "display_name": "Python 3",
   "language": "python",
   "name": "python3"
  },
  "language_info": {
   "codemirror_mode": {
    "name": "ipython",
    "version": 3
   },
   "file_extension": ".py",
   "mimetype": "text/x-python",
   "name": "python",
   "nbconvert_exporter": "python",
   "pygments_lexer": "ipython3",
   "version": "3.8.5"
  }
 },
 "nbformat": 4,
 "nbformat_minor": 4
}
