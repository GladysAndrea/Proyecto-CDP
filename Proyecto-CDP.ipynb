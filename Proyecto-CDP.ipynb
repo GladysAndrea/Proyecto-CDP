{
 "cells": [
  {
   "cell_type": "markdown",
   "metadata": {},
   "source": [
    "## Proyecto"
   ]
  },
  {
   "cell_type": "code",
   "execution_count": null,
   "metadata": {},
   "outputs": [],
   "source": [
    "#conda install scikit-learn"
   ]
  },
  {
   "cell_type": "code",
   "execution_count": 1,
   "metadata": {},
   "outputs": [],
   "source": [
    "## Importando librerías\n",
    "import pandas as pd\n",
    "import numpy as np\n",
    "##from glob import glob\n",
    "\n",
    "import matplotlib.pyplot as plt\n",
    "## para hacer gráficos\n",
    "%matplotlib inline\n",
    "plt.style.use('ggplot')\n",
    "plt.rcParams['figure.figsize'] = (16, 9)\n",
    "import seaborn as sns\n",
    "\n",
    "from sklearn import linear_model\n",
    "from sklearn.model_selection import train_test_split\n",
    "from sklearn.linear_model import LinearRegression"
   ]
  },
  {
   "cell_type": "code",
   "execution_count": 2,
   "metadata": {},
   "outputs": [
    {
     "data": {
      "text/html": [
       "<div>\n",
       "<style scoped>\n",
       "    .dataframe tbody tr th:only-of-type {\n",
       "        vertical-align: middle;\n",
       "    }\n",
       "\n",
       "    .dataframe tbody tr th {\n",
       "        vertical-align: top;\n",
       "    }\n",
       "\n",
       "    .dataframe thead th {\n",
       "        text-align: right;\n",
       "    }\n",
       "</style>\n",
       "<table border=\"1\" class=\"dataframe\">\n",
       "  <thead>\n",
       "    <tr style=\"text-align: right;\">\n",
       "      <th></th>\n",
       "      <th>SalesPrice</th>\n",
       "      <th>OverallQual</th>\n",
       "      <th>1stFlrSF</th>\n",
       "      <th>TotRmsAbvGrd</th>\n",
       "      <th>YearBuilt</th>\n",
       "      <th>LotFrontage</th>\n",
       "    </tr>\n",
       "  </thead>\n",
       "  <tbody>\n",
       "    <tr>\n",
       "      <th>0</th>\n",
       "      <td>208500.0</td>\n",
       "      <td>7.0</td>\n",
       "      <td>856.0</td>\n",
       "      <td>8.0</td>\n",
       "      <td>2003.0</td>\n",
       "      <td>65.0</td>\n",
       "    </tr>\n",
       "    <tr>\n",
       "      <th>1</th>\n",
       "      <td>181500.0</td>\n",
       "      <td>6.0</td>\n",
       "      <td>1262.0</td>\n",
       "      <td>6.0</td>\n",
       "      <td>1976.0</td>\n",
       "      <td>80.0</td>\n",
       "    </tr>\n",
       "    <tr>\n",
       "      <th>2</th>\n",
       "      <td>223500.0</td>\n",
       "      <td>7.0</td>\n",
       "      <td>920.0</td>\n",
       "      <td>6.0</td>\n",
       "      <td>2001.0</td>\n",
       "      <td>68.0</td>\n",
       "    </tr>\n",
       "    <tr>\n",
       "      <th>3</th>\n",
       "      <td>140000.0</td>\n",
       "      <td>7.0</td>\n",
       "      <td>961.0</td>\n",
       "      <td>7.0</td>\n",
       "      <td>1915.0</td>\n",
       "      <td>60.0</td>\n",
       "    </tr>\n",
       "    <tr>\n",
       "      <th>4</th>\n",
       "      <td>250000.0</td>\n",
       "      <td>8.0</td>\n",
       "      <td>1145.0</td>\n",
       "      <td>9.0</td>\n",
       "      <td>2000.0</td>\n",
       "      <td>84.0</td>\n",
       "    </tr>\n",
       "    <tr>\n",
       "      <th>...</th>\n",
       "      <td>...</td>\n",
       "      <td>...</td>\n",
       "      <td>...</td>\n",
       "      <td>...</td>\n",
       "      <td>...</td>\n",
       "      <td>...</td>\n",
       "    </tr>\n",
       "    <tr>\n",
       "      <th>1455</th>\n",
       "      <td>175000.0</td>\n",
       "      <td>6.0</td>\n",
       "      <td>953.0</td>\n",
       "      <td>7.0</td>\n",
       "      <td>1999.0</td>\n",
       "      <td>62.0</td>\n",
       "    </tr>\n",
       "    <tr>\n",
       "      <th>1456</th>\n",
       "      <td>210000.0</td>\n",
       "      <td>6.0</td>\n",
       "      <td>2073.0</td>\n",
       "      <td>7.0</td>\n",
       "      <td>1978.0</td>\n",
       "      <td>85.0</td>\n",
       "    </tr>\n",
       "    <tr>\n",
       "      <th>1457</th>\n",
       "      <td>266500.0</td>\n",
       "      <td>7.0</td>\n",
       "      <td>1188.0</td>\n",
       "      <td>9.0</td>\n",
       "      <td>1941.0</td>\n",
       "      <td>66.0</td>\n",
       "    </tr>\n",
       "    <tr>\n",
       "      <th>1458</th>\n",
       "      <td>142125.0</td>\n",
       "      <td>5.0</td>\n",
       "      <td>1078.0</td>\n",
       "      <td>5.0</td>\n",
       "      <td>1950.0</td>\n",
       "      <td>68.0</td>\n",
       "    </tr>\n",
       "    <tr>\n",
       "      <th>1459</th>\n",
       "      <td>147500.0</td>\n",
       "      <td>5.0</td>\n",
       "      <td>1256.0</td>\n",
       "      <td>6.0</td>\n",
       "      <td>1965.0</td>\n",
       "      <td>75.0</td>\n",
       "    </tr>\n",
       "  </tbody>\n",
       "</table>\n",
       "<p>1460 rows × 6 columns</p>\n",
       "</div>"
      ],
      "text/plain": [
       "      SalesPrice  OverallQual  1stFlrSF  TotRmsAbvGrd  YearBuilt  LotFrontage\n",
       "0       208500.0          7.0     856.0           8.0     2003.0         65.0\n",
       "1       181500.0          6.0    1262.0           6.0     1976.0         80.0\n",
       "2       223500.0          7.0     920.0           6.0     2001.0         68.0\n",
       "3       140000.0          7.0     961.0           7.0     1915.0         60.0\n",
       "4       250000.0          8.0    1145.0           9.0     2000.0         84.0\n",
       "...          ...          ...       ...           ...        ...          ...\n",
       "1455    175000.0          6.0     953.0           7.0     1999.0         62.0\n",
       "1456    210000.0          6.0    2073.0           7.0     1978.0         85.0\n",
       "1457    266500.0          7.0    1188.0           9.0     1941.0         66.0\n",
       "1458    142125.0          5.0    1078.0           5.0     1950.0         68.0\n",
       "1459    147500.0          5.0    1256.0           6.0     1965.0         75.0\n",
       "\n",
       "[1460 rows x 6 columns]"
      ]
     },
     "execution_count": 2,
     "metadata": {},
     "output_type": "execute_result"
    }
   ],
   "source": [
    "## Ingresando archivos\n",
    "\n",
    "df = np.load('proyecto_training_data.npy')\n",
    "\n",
    "##print(df)\n",
    "data = pd.DataFrame(df,columns = ['SalesPrice','OverallQual','1stFlrSF','TotRmsAbvGrd','YearBuilt','LotFrontage'])\n",
    "\n",
    "data"
   ]
  },
  {
   "cell_type": "code",
   "execution_count": 3,
   "metadata": {},
   "outputs": [
    {
     "data": {
      "text/html": [
       "<div>\n",
       "<style scoped>\n",
       "    .dataframe tbody tr th:only-of-type {\n",
       "        vertical-align: middle;\n",
       "    }\n",
       "\n",
       "    .dataframe tbody tr th {\n",
       "        vertical-align: top;\n",
       "    }\n",
       "\n",
       "    .dataframe thead th {\n",
       "        text-align: right;\n",
       "    }\n",
       "</style>\n",
       "<table border=\"1\" class=\"dataframe\">\n",
       "  <thead>\n",
       "    <tr style=\"text-align: right;\">\n",
       "      <th></th>\n",
       "      <th>SalesPrice</th>\n",
       "      <th>OverallQual</th>\n",
       "      <th>1stFlrSF</th>\n",
       "      <th>TotRmsAbvGrd</th>\n",
       "      <th>YearBuilt</th>\n",
       "      <th>LotFrontage</th>\n",
       "    </tr>\n",
       "  </thead>\n",
       "  <tbody>\n",
       "    <tr>\n",
       "      <th>count</th>\n",
       "      <td>1460.000000</td>\n",
       "      <td>1460.000000</td>\n",
       "      <td>1460.000000</td>\n",
       "      <td>1460.000000</td>\n",
       "      <td>1460.000000</td>\n",
       "      <td>1201.000000</td>\n",
       "    </tr>\n",
       "    <tr>\n",
       "      <th>mean</th>\n",
       "      <td>180921.195890</td>\n",
       "      <td>6.099315</td>\n",
       "      <td>1162.626712</td>\n",
       "      <td>6.517808</td>\n",
       "      <td>1971.267808</td>\n",
       "      <td>70.049958</td>\n",
       "    </tr>\n",
       "    <tr>\n",
       "      <th>std</th>\n",
       "      <td>79442.502883</td>\n",
       "      <td>1.382997</td>\n",
       "      <td>386.587738</td>\n",
       "      <td>1.625393</td>\n",
       "      <td>30.202904</td>\n",
       "      <td>24.284752</td>\n",
       "    </tr>\n",
       "    <tr>\n",
       "      <th>min</th>\n",
       "      <td>34900.000000</td>\n",
       "      <td>1.000000</td>\n",
       "      <td>334.000000</td>\n",
       "      <td>2.000000</td>\n",
       "      <td>1872.000000</td>\n",
       "      <td>21.000000</td>\n",
       "    </tr>\n",
       "    <tr>\n",
       "      <th>25%</th>\n",
       "      <td>129975.000000</td>\n",
       "      <td>5.000000</td>\n",
       "      <td>882.000000</td>\n",
       "      <td>5.000000</td>\n",
       "      <td>1954.000000</td>\n",
       "      <td>59.000000</td>\n",
       "    </tr>\n",
       "    <tr>\n",
       "      <th>50%</th>\n",
       "      <td>163000.000000</td>\n",
       "      <td>6.000000</td>\n",
       "      <td>1087.000000</td>\n",
       "      <td>6.000000</td>\n",
       "      <td>1973.000000</td>\n",
       "      <td>69.000000</td>\n",
       "    </tr>\n",
       "    <tr>\n",
       "      <th>75%</th>\n",
       "      <td>214000.000000</td>\n",
       "      <td>7.000000</td>\n",
       "      <td>1391.250000</td>\n",
       "      <td>7.000000</td>\n",
       "      <td>2000.000000</td>\n",
       "      <td>80.000000</td>\n",
       "    </tr>\n",
       "    <tr>\n",
       "      <th>max</th>\n",
       "      <td>755000.000000</td>\n",
       "      <td>10.000000</td>\n",
       "      <td>4692.000000</td>\n",
       "      <td>14.000000</td>\n",
       "      <td>2010.000000</td>\n",
       "      <td>313.000000</td>\n",
       "    </tr>\n",
       "  </tbody>\n",
       "</table>\n",
       "</div>"
      ],
      "text/plain": [
       "          SalesPrice  OverallQual     1stFlrSF  TotRmsAbvGrd    YearBuilt  \\\n",
       "count    1460.000000  1460.000000  1460.000000   1460.000000  1460.000000   \n",
       "mean   180921.195890     6.099315  1162.626712      6.517808  1971.267808   \n",
       "std     79442.502883     1.382997   386.587738      1.625393    30.202904   \n",
       "min     34900.000000     1.000000   334.000000      2.000000  1872.000000   \n",
       "25%    129975.000000     5.000000   882.000000      5.000000  1954.000000   \n",
       "50%    163000.000000     6.000000  1087.000000      6.000000  1973.000000   \n",
       "75%    214000.000000     7.000000  1391.250000      7.000000  2000.000000   \n",
       "max    755000.000000    10.000000  4692.000000     14.000000  2010.000000   \n",
       "\n",
       "       LotFrontage  \n",
       "count  1201.000000  \n",
       "mean     70.049958  \n",
       "std      24.284752  \n",
       "min      21.000000  \n",
       "25%      59.000000  \n",
       "50%      69.000000  \n",
       "75%      80.000000  \n",
       "max     313.000000  "
      ]
     },
     "execution_count": 3,
     "metadata": {},
     "output_type": "execute_result"
    }
   ],
   "source": [
    "# Analizando Data Set\n",
    "data.describe()"
   ]
  },
  {
   "cell_type": "code",
   "execution_count": 4,
   "metadata": {},
   "outputs": [
    {
     "data": {
      "text/html": [
       "<style  type=\"text/css\" >\n",
       "#T_bf703063_99aa_11eb_9d9b_00dbdf593cdcrow0_col0,#T_bf703063_99aa_11eb_9d9b_00dbdf593cdcrow1_col1,#T_bf703063_99aa_11eb_9d9b_00dbdf593cdcrow2_col2,#T_bf703063_99aa_11eb_9d9b_00dbdf593cdcrow3_col3,#T_bf703063_99aa_11eb_9d9b_00dbdf593cdcrow4_col4,#T_bf703063_99aa_11eb_9d9b_00dbdf593cdcrow5_col5{\n",
       "            background-color:  #b40426;\n",
       "            color:  #f1f1f1;\n",
       "        }#T_bf703063_99aa_11eb_9d9b_00dbdf593cdcrow0_col1{\n",
       "            background-color:  #f6a586;\n",
       "            color:  #000000;\n",
       "        }#T_bf703063_99aa_11eb_9d9b_00dbdf593cdcrow0_col2{\n",
       "            background-color:  #cfdaea;\n",
       "            color:  #000000;\n",
       "        }#T_bf703063_99aa_11eb_9d9b_00dbdf593cdcrow0_col3{\n",
       "            background-color:  #d9dce1;\n",
       "            color:  #000000;\n",
       "        }#T_bf703063_99aa_11eb_9d9b_00dbdf593cdcrow0_col4{\n",
       "            background-color:  #d5dbe5;\n",
       "            color:  #000000;\n",
       "        }#T_bf703063_99aa_11eb_9d9b_00dbdf593cdcrow0_col5,#T_bf703063_99aa_11eb_9d9b_00dbdf593cdcrow3_col5{\n",
       "            background-color:  #90b2fe;\n",
       "            color:  #000000;\n",
       "        }#T_bf703063_99aa_11eb_9d9b_00dbdf593cdcrow1_col0{\n",
       "            background-color:  #f7b497;\n",
       "            color:  #000000;\n",
       "        }#T_bf703063_99aa_11eb_9d9b_00dbdf593cdcrow1_col2{\n",
       "            background-color:  #94b6ff;\n",
       "            color:  #000000;\n",
       "        }#T_bf703063_99aa_11eb_9d9b_00dbdf593cdcrow1_col3{\n",
       "            background-color:  #b5cdfa;\n",
       "            color:  #000000;\n",
       "        }#T_bf703063_99aa_11eb_9d9b_00dbdf593cdcrow1_col4{\n",
       "            background-color:  #e3d9d3;\n",
       "            color:  #000000;\n",
       "        }#T_bf703063_99aa_11eb_9d9b_00dbdf593cdcrow1_col5{\n",
       "            background-color:  #688aef;\n",
       "            color:  #000000;\n",
       "        }#T_bf703063_99aa_11eb_9d9b_00dbdf593cdcrow2_col0{\n",
       "            background-color:  #bed2f6;\n",
       "            color:  #000000;\n",
       "        }#T_bf703063_99aa_11eb_9d9b_00dbdf593cdcrow2_col1{\n",
       "            background-color:  #9ebeff;\n",
       "            color:  #000000;\n",
       "        }#T_bf703063_99aa_11eb_9d9b_00dbdf593cdcrow2_col3{\n",
       "            background-color:  #aec9fc;\n",
       "            color:  #000000;\n",
       "        }#T_bf703063_99aa_11eb_9d9b_00dbdf593cdcrow2_col4{\n",
       "            background-color:  #7da0f9;\n",
       "            color:  #000000;\n",
       "        }#T_bf703063_99aa_11eb_9d9b_00dbdf593cdcrow2_col5{\n",
       "            background-color:  #bad0f8;\n",
       "            color:  #000000;\n",
       "        }#T_bf703063_99aa_11eb_9d9b_00dbdf593cdcrow3_col0{\n",
       "            background-color:  #97b8ff;\n",
       "            color:  #000000;\n",
       "        }#T_bf703063_99aa_11eb_9d9b_00dbdf593cdcrow3_col1{\n",
       "            background-color:  #88abfd;\n",
       "            color:  #000000;\n",
       "        }#T_bf703063_99aa_11eb_9d9b_00dbdf593cdcrow3_col2{\n",
       "            background-color:  #7396f5;\n",
       "            color:  #000000;\n",
       "        }#T_bf703063_99aa_11eb_9d9b_00dbdf593cdcrow3_col4,#T_bf703063_99aa_11eb_9d9b_00dbdf593cdcrow4_col2,#T_bf703063_99aa_11eb_9d9b_00dbdf593cdcrow4_col3,#T_bf703063_99aa_11eb_9d9b_00dbdf593cdcrow4_col5,#T_bf703063_99aa_11eb_9d9b_00dbdf593cdcrow5_col0,#T_bf703063_99aa_11eb_9d9b_00dbdf593cdcrow5_col1{\n",
       "            background-color:  #3b4cc0;\n",
       "            color:  #f1f1f1;\n",
       "        }#T_bf703063_99aa_11eb_9d9b_00dbdf593cdcrow4_col0{\n",
       "            background-color:  #92b4fe;\n",
       "            color:  #000000;\n",
       "        }#T_bf703063_99aa_11eb_9d9b_00dbdf593cdcrow4_col1{\n",
       "            background-color:  #c9d7f0;\n",
       "            color:  #000000;\n",
       "        }#T_bf703063_99aa_11eb_9d9b_00dbdf593cdcrow5_col2{\n",
       "            background-color:  #8badfd;\n",
       "            color:  #000000;\n",
       "        }#T_bf703063_99aa_11eb_9d9b_00dbdf593cdcrow5_col3{\n",
       "            background-color:  #98b9ff;\n",
       "            color:  #000000;\n",
       "        }#T_bf703063_99aa_11eb_9d9b_00dbdf593cdcrow5_col4{\n",
       "            background-color:  #4358cb;\n",
       "            color:  #f1f1f1;\n",
       "        }</style><table id=\"T_bf703063_99aa_11eb_9d9b_00dbdf593cdc\" ><thead>    <tr>        <th class=\"blank level0\" ></th>        <th class=\"col_heading level0 col0\" >SalesPrice</th>        <th class=\"col_heading level0 col1\" >OverallQual</th>        <th class=\"col_heading level0 col2\" >1stFlrSF</th>        <th class=\"col_heading level0 col3\" >TotRmsAbvGrd</th>        <th class=\"col_heading level0 col4\" >YearBuilt</th>        <th class=\"col_heading level0 col5\" >LotFrontage</th>    </tr></thead><tbody>\n",
       "                <tr>\n",
       "                        <th id=\"T_bf703063_99aa_11eb_9d9b_00dbdf593cdclevel0_row0\" class=\"row_heading level0 row0\" >SalesPrice</th>\n",
       "                        <td id=\"T_bf703063_99aa_11eb_9d9b_00dbdf593cdcrow0_col0\" class=\"data row0 col0\" >1.000000</td>\n",
       "                        <td id=\"T_bf703063_99aa_11eb_9d9b_00dbdf593cdcrow0_col1\" class=\"data row0 col1\" >0.790982</td>\n",
       "                        <td id=\"T_bf703063_99aa_11eb_9d9b_00dbdf593cdcrow0_col2\" class=\"data row0 col2\" >0.605852</td>\n",
       "                        <td id=\"T_bf703063_99aa_11eb_9d9b_00dbdf593cdcrow0_col3\" class=\"data row0 col3\" >0.533723</td>\n",
       "                        <td id=\"T_bf703063_99aa_11eb_9d9b_00dbdf593cdcrow0_col4\" class=\"data row0 col4\" >0.522897</td>\n",
       "                        <td id=\"T_bf703063_99aa_11eb_9d9b_00dbdf593cdcrow0_col5\" class=\"data row0 col5\" >0.351799</td>\n",
       "            </tr>\n",
       "            <tr>\n",
       "                        <th id=\"T_bf703063_99aa_11eb_9d9b_00dbdf593cdclevel0_row1\" class=\"row_heading level0 row1\" >OverallQual</th>\n",
       "                        <td id=\"T_bf703063_99aa_11eb_9d9b_00dbdf593cdcrow1_col0\" class=\"data row1 col0\" >0.790982</td>\n",
       "                        <td id=\"T_bf703063_99aa_11eb_9d9b_00dbdf593cdcrow1_col1\" class=\"data row1 col1\" >1.000000</td>\n",
       "                        <td id=\"T_bf703063_99aa_11eb_9d9b_00dbdf593cdcrow1_col2\" class=\"data row1 col2\" >0.476224</td>\n",
       "                        <td id=\"T_bf703063_99aa_11eb_9d9b_00dbdf593cdcrow1_col3\" class=\"data row1 col3\" >0.427452</td>\n",
       "                        <td id=\"T_bf703063_99aa_11eb_9d9b_00dbdf593cdcrow1_col4\" class=\"data row1 col4\" >0.572323</td>\n",
       "                        <td id=\"T_bf703063_99aa_11eb_9d9b_00dbdf593cdcrow1_col5\" class=\"data row1 col5\" >0.251646</td>\n",
       "            </tr>\n",
       "            <tr>\n",
       "                        <th id=\"T_bf703063_99aa_11eb_9d9b_00dbdf593cdclevel0_row2\" class=\"row_heading level0 row2\" >1stFlrSF</th>\n",
       "                        <td id=\"T_bf703063_99aa_11eb_9d9b_00dbdf593cdcrow2_col0\" class=\"data row2 col0\" >0.605852</td>\n",
       "                        <td id=\"T_bf703063_99aa_11eb_9d9b_00dbdf593cdcrow2_col1\" class=\"data row2 col1\" >0.476224</td>\n",
       "                        <td id=\"T_bf703063_99aa_11eb_9d9b_00dbdf593cdcrow2_col2\" class=\"data row2 col2\" >1.000000</td>\n",
       "                        <td id=\"T_bf703063_99aa_11eb_9d9b_00dbdf593cdcrow2_col3\" class=\"data row2 col3\" >0.409516</td>\n",
       "                        <td id=\"T_bf703063_99aa_11eb_9d9b_00dbdf593cdcrow2_col4\" class=\"data row2 col4\" >0.281986</td>\n",
       "                        <td id=\"T_bf703063_99aa_11eb_9d9b_00dbdf593cdcrow2_col5\" class=\"data row2 col5\" >0.457181</td>\n",
       "            </tr>\n",
       "            <tr>\n",
       "                        <th id=\"T_bf703063_99aa_11eb_9d9b_00dbdf593cdclevel0_row3\" class=\"row_heading level0 row3\" >TotRmsAbvGrd</th>\n",
       "                        <td id=\"T_bf703063_99aa_11eb_9d9b_00dbdf593cdcrow3_col0\" class=\"data row3 col0\" >0.533723</td>\n",
       "                        <td id=\"T_bf703063_99aa_11eb_9d9b_00dbdf593cdcrow3_col1\" class=\"data row3 col1\" >0.427452</td>\n",
       "                        <td id=\"T_bf703063_99aa_11eb_9d9b_00dbdf593cdcrow3_col2\" class=\"data row3 col2\" >0.409516</td>\n",
       "                        <td id=\"T_bf703063_99aa_11eb_9d9b_00dbdf593cdcrow3_col3\" class=\"data row3 col3\" >1.000000</td>\n",
       "                        <td id=\"T_bf703063_99aa_11eb_9d9b_00dbdf593cdcrow3_col4\" class=\"data row3 col4\" >0.095589</td>\n",
       "                        <td id=\"T_bf703063_99aa_11eb_9d9b_00dbdf593cdcrow3_col5\" class=\"data row3 col5\" >0.352096</td>\n",
       "            </tr>\n",
       "            <tr>\n",
       "                        <th id=\"T_bf703063_99aa_11eb_9d9b_00dbdf593cdclevel0_row4\" class=\"row_heading level0 row4\" >YearBuilt</th>\n",
       "                        <td id=\"T_bf703063_99aa_11eb_9d9b_00dbdf593cdcrow4_col0\" class=\"data row4 col0\" >0.522897</td>\n",
       "                        <td id=\"T_bf703063_99aa_11eb_9d9b_00dbdf593cdcrow4_col1\" class=\"data row4 col1\" >0.572323</td>\n",
       "                        <td id=\"T_bf703063_99aa_11eb_9d9b_00dbdf593cdcrow4_col2\" class=\"data row4 col2\" >0.281986</td>\n",
       "                        <td id=\"T_bf703063_99aa_11eb_9d9b_00dbdf593cdcrow4_col3\" class=\"data row4 col3\" >0.095589</td>\n",
       "                        <td id=\"T_bf703063_99aa_11eb_9d9b_00dbdf593cdcrow4_col4\" class=\"data row4 col4\" >1.000000</td>\n",
       "                        <td id=\"T_bf703063_99aa_11eb_9d9b_00dbdf593cdcrow4_col5\" class=\"data row4 col5\" >0.123349</td>\n",
       "            </tr>\n",
       "            <tr>\n",
       "                        <th id=\"T_bf703063_99aa_11eb_9d9b_00dbdf593cdclevel0_row5\" class=\"row_heading level0 row5\" >LotFrontage</th>\n",
       "                        <td id=\"T_bf703063_99aa_11eb_9d9b_00dbdf593cdcrow5_col0\" class=\"data row5 col0\" >0.351799</td>\n",
       "                        <td id=\"T_bf703063_99aa_11eb_9d9b_00dbdf593cdcrow5_col1\" class=\"data row5 col1\" >0.251646</td>\n",
       "                        <td id=\"T_bf703063_99aa_11eb_9d9b_00dbdf593cdcrow5_col2\" class=\"data row5 col2\" >0.457181</td>\n",
       "                        <td id=\"T_bf703063_99aa_11eb_9d9b_00dbdf593cdcrow5_col3\" class=\"data row5 col3\" >0.352096</td>\n",
       "                        <td id=\"T_bf703063_99aa_11eb_9d9b_00dbdf593cdcrow5_col4\" class=\"data row5 col4\" >0.123349</td>\n",
       "                        <td id=\"T_bf703063_99aa_11eb_9d9b_00dbdf593cdcrow5_col5\" class=\"data row5 col5\" >1.000000</td>\n",
       "            </tr>\n",
       "    </tbody></table>"
      ],
      "text/plain": [
       "<pandas.io.formats.style.Styler at 0x1e924ecba60>"
      ]
     },
     "execution_count": 4,
     "metadata": {},
     "output_type": "execute_result"
    }
   ],
   "source": [
    "corr_df = data.corr(method='pearson')\n",
    "corr_df.style.background_gradient(cmap='coolwarm')"
   ]
  },
  {
   "cell_type": "markdown",
   "metadata": {},
   "source": [
    "### División Dataset"
   ]
  },
  {
   "cell_type": "code",
   "execution_count": 5,
   "metadata": {},
   "outputs": [
    {
     "data": {
      "image/png": "[encoded data removed]",
      "text/plain": [
       "<Figure size 1152x648 with 1 Axes>"
      ]
     },
     "metadata": {},
     "output_type": "display_data"
    }
   ],
   "source": [
    "#Seleccion de datos\n",
    "x = data[\"SalesPrice\"]\n",
    "y = data[\"OverallQual\"]\n",
    "\n",
    "plt.scatter(x,y)\n",
    "plt.show()"
   ]
  },
  {
   "cell_type": "code",
   "execution_count": 6,
   "metadata": {},
   "outputs": [
    {
     "name": "stdout",
     "output_type": "stream",
     "text": [
      "318     260000.0\n",
      "580     181900.0\n",
      "961     272000.0\n",
      "78      136500.0\n",
      "5       143000.0\n",
      "          ...   \n",
      "1041    173000.0\n",
      "1122    112000.0\n",
      "1346    262500.0\n",
      "1406    133000.0\n",
      "1389    131000.0\n",
      "Name: SalesPrice, Length: 1168, dtype: float64\n",
      "318     7.0\n",
      "580     6.0\n",
      "961     6.0\n",
      "78      4.0\n",
      "5       5.0\n",
      "       ... \n",
      "1041    6.0\n",
      "1122    4.0\n",
      "1346    7.0\n",
      "1406    5.0\n",
      "1389    6.0\n",
      "Name: OverallQual, Length: 1168, dtype: float64\n",
      "147     222500.0\n",
      "676      87000.0\n",
      "1304    130000.0\n",
      "1372    274300.0\n",
      "1427    140000.0\n",
      "          ...   \n",
      "1012    165000.0\n",
      "1059    220000.0\n",
      "890     122900.0\n",
      "628     135000.0\n",
      "352      95000.0\n",
      "Name: SalesPrice, Length: 292, dtype: float64\n",
      "147     7.0\n",
      "676     4.0\n",
      "1304    7.0\n",
      "1372    7.0\n",
      "1427    5.0\n",
      "       ... \n",
      "1012    6.0\n",
      "1059    6.0\n",
      "890     5.0\n",
      "628     5.0\n",
      "352     5.0\n",
      "Name: OverallQual, Length: 292, dtype: float64\n"
     ]
    }
   ],
   "source": [
    "## Division de datos\n",
    "X_train, X_test, y_train, y_test = train_test_split(x, y, test_size=0.20,shuffle = True, random_state = 123)\n",
    "\n",
    "# Visualizando el dataset Train\n",
    "print(X_train)\n",
    "print(y_train)\n",
    "\n",
    "# Visualizando el dataset Test\n",
    "print(X_test)\n",
    "print(y_test)"
   ]
  },
  {
   "cell_type": "code",
   "execution_count": 7,
   "metadata": {},
   "outputs": [],
   "source": [
    "# Creando DataSets\n",
    "dataTest= pd.DataFrame() \n",
    "dataTrain= pd.DataFrame() \n",
    "\n",
    "\n",
    "dataTrain['x'] = X_train\n",
    "dataTrain['y'] = y_train\n",
    "#dataTrain\n",
    "\n",
    "dataTest['x'] = X_test\n",
    "dataTest['y'] = y_test\n",
    "#dataTest"
   ]
  },
  {
   "cell_type": "markdown",
   "metadata": {},
   "source": [
    "## Analizando DataTrain"
   ]
  },
  {
   "cell_type": "code",
   "execution_count": 8,
   "metadata": {},
   "outputs": [
    {
     "data": {
      "text/html": [
       "<div>\n",
       "<style scoped>\n",
       "    .dataframe tbody tr th:only-of-type {\n",
       "        vertical-align: middle;\n",
       "    }\n",
       "\n",
       "    .dataframe tbody tr th {\n",
       "        vertical-align: top;\n",
       "    }\n",
       "\n",
       "    .dataframe thead th {\n",
       "        text-align: right;\n",
       "    }\n",
       "</style>\n",
       "<table border=\"1\" class=\"dataframe\">\n",
       "  <thead>\n",
       "    <tr style=\"text-align: right;\">\n",
       "      <th></th>\n",
       "      <th>x</th>\n",
       "      <th>y</th>\n",
       "    </tr>\n",
       "  </thead>\n",
       "  <tbody>\n",
       "    <tr>\n",
       "      <th>count</th>\n",
       "      <td>1168.000000</td>\n",
       "      <td>1168.000000</td>\n",
       "    </tr>\n",
       "    <tr>\n",
       "      <th>mean</th>\n",
       "      <td>180717.069349</td>\n",
       "      <td>6.093322</td>\n",
       "    </tr>\n",
       "    <tr>\n",
       "      <th>std</th>\n",
       "      <td>79648.006799</td>\n",
       "      <td>1.402296</td>\n",
       "    </tr>\n",
       "    <tr>\n",
       "      <th>min</th>\n",
       "      <td>34900.000000</td>\n",
       "      <td>1.000000</td>\n",
       "    </tr>\n",
       "    <tr>\n",
       "      <th>25%</th>\n",
       "      <td>129900.000000</td>\n",
       "      <td>5.000000</td>\n",
       "    </tr>\n",
       "    <tr>\n",
       "      <th>50%</th>\n",
       "      <td>162000.000000</td>\n",
       "      <td>6.000000</td>\n",
       "    </tr>\n",
       "    <tr>\n",
       "      <th>75%</th>\n",
       "      <td>214000.000000</td>\n",
       "      <td>7.000000</td>\n",
       "    </tr>\n",
       "    <tr>\n",
       "      <th>max</th>\n",
       "      <td>755000.000000</td>\n",
       "      <td>10.000000</td>\n",
       "    </tr>\n",
       "  </tbody>\n",
       "</table>\n",
       "</div>"
      ],
      "text/plain": [
       "                   x            y\n",
       "count    1168.000000  1168.000000\n",
       "mean   180717.069349     6.093322\n",
       "std     79648.006799     1.402296\n",
       "min     34900.000000     1.000000\n",
       "25%    129900.000000     5.000000\n",
       "50%    162000.000000     6.000000\n",
       "75%    214000.000000     7.000000\n",
       "max    755000.000000    10.000000"
      ]
     },
     "execution_count": 8,
     "metadata": {},
     "output_type": "execute_result"
    }
   ],
   "source": [
    "dataTrain.describe()"
   ]
  },
  {
   "cell_type": "code",
   "execution_count": 9,
   "metadata": {},
   "outputs": [
    {
     "data": {
      "image/png": "[encoded data removed]",
      "text/plain": [
       "<Figure size 1152x648 with 2 Axes>"
      ]
     },
     "metadata": {},
     "output_type": "display_data"
    }
   ],
   "source": [
    "dataTrain.hist()\n",
    "plt.show()"
   ]
  },
  {
   "cell_type": "code",
   "execution_count": 10,
   "metadata": {},
   "outputs": [
    {
     "name": "stderr",
     "output_type": "stream",
     "text": [
      "C:\\Users\\Usuario\\anaconda3\\lib\\site-packages\\seaborn\\distributions.py:2551: FutureWarning: `distplot` is a deprecated function and will be removed in a future version. Please adapt your code to use either `displot` (a figure-level function with similar flexibility) or `histplot` (an axes-level function for histograms).\n",
      "  warnings.warn(msg, FutureWarning)\n",
      "C:\\Users\\Usuario\\anaconda3\\lib\\site-packages\\seaborn\\distributions.py:2055: FutureWarning: The `axis` variable is no longer used and will be removed. Instead, assign variables directly to `x` or `y`.\n",
      "  warnings.warn(msg, FutureWarning)\n"
     ]
    },
    {
     "data": {
      "image/png": "[encoded data removed]",
      "text/plain": [
       "<Figure size 1152x648 with 1 Axes>"
      ]
     },
     "metadata": {},
     "output_type": "display_data"
    }
   ],
   "source": [
    "ax = sns.distplot(X_train, rug=True, rug_kws={\"color\": \"g\"},\n",
    "                  kde_kws={\"color\": \"k\", \"lw\": 3, \"label\": \"KDE\"},\n",
    "                  hist_kws={\"histtype\": \"step\", \"linewidth\": 3,\n",
    "                            \"alpha\": 1, \"color\": \"g\"})"
   ]
  },
  {
   "cell_type": "code",
   "execution_count": 11,
   "metadata": {},
   "outputs": [
    {
     "name": "stdout",
     "output_type": "stream",
     "text": [
      "0.7889930770922915 88122.68846694488\n"
     ]
    }
   ],
   "source": [
    "xcorr = dataTrain[\"x\"]\n",
    "ycorr = dataTrain[\"y\"] \n",
    "## creando correlacion y covarianza\n",
    "print(ycorr.corr(xcorr),ycorr.cov(xcorr))"
   ]
  },
  {
   "cell_type": "code",
   "execution_count": 12,
   "metadata": {},
   "outputs": [
    {
     "data": {
      "image/png": "[encoded data removed]",
      "text/plain": [
       "<Figure size 1152x648 with 1 Axes>"
      ]
     },
     "metadata": {},
     "output_type": "display_data"
    }
   ],
   "source": [
    "## Graficando Correlacion\n",
    "x = dataTrain[\"x\"]\n",
    "y = dataTrain[\"y\"]\n",
    "\n",
    "plt.scatter(x,y)\n",
    "plt.xlabel(\"Valor x\")\n",
    "plt.ylabel(\"Valor y\")\n",
    "plt.show()"
   ]
  },
  {
   "cell_type": "code",
   "execution_count": 13,
   "metadata": {},
   "outputs": [
    {
     "data": {
      "text/plain": [
       "LinearRegression()"
      ]
     },
     "execution_count": 13,
     "metadata": {},
     "output_type": "execute_result"
    }
   ],
   "source": [
    "xTrain = dataTrain[\"x\"].values.reshape(-1,1)\n",
    "yTrain = dataTrain[\"y\"].values.reshape(-1,1)\n",
    "\n",
    "lm_1 = LinearRegression()\n",
    "lm_1.fit(xTrain,yTrain)"
   ]
  },
  {
   "cell_type": "code",
   "execution_count": 14,
   "metadata": {},
   "outputs": [
    {
     "data": {
      "text/plain": [
       "array([[1.38911408e-05]])"
      ]
     },
     "execution_count": 14,
     "metadata": {},
     "output_type": "execute_result"
    }
   ],
   "source": [
    "lm_1.coef_"
   ]
  },
  {
   "cell_type": "code",
   "execution_count": 15,
   "metadata": {},
   "outputs": [
    {
     "data": {
      "text/plain": [
       "array([3.58295566])"
      ]
     },
     "execution_count": 15,
     "metadata": {},
     "output_type": "execute_result"
    }
   ],
   "source": [
    "lm_1.intercept_"
   ]
  },
  {
   "cell_type": "markdown",
   "metadata": {},
   "source": [
    "### Regresion: DataTrain"
   ]
  },
  {
   "cell_type": "code",
   "execution_count": 16,
   "metadata": {},
   "outputs": [],
   "source": [
    "#funcion para calcular nuevos valores\n",
    "def Calcular(ciclo,betacero,betauno,alfa):\n",
    "    datatemp = pd.DataFrame(DataPaso[DataPaso['Ciclo']==ciclo])    \n",
    "    ResultadoError=datatemp['ErrorCuadrado'].sum()/(len(datatemp)*2)\n",
    "    GradienteBeta1=datatemp['GradienteBeta1'].mean()\n",
    "    GradienteBeta0=datatemp['Error'].mean()\n",
    "    nuevoBeta0=betacero-alfa*datatemp['Error'].mean()\n",
    "    nuevoBeta1=betauno-alfa*datatemp['GradienteBeta1'].mean()    \n",
    "    return betacero,betauno,alfa,ResultadoError,GradienteBeta1,GradienteBeta0,nuevoBeta0,nuevoBeta1\n"
   ]
  },
  {
   "cell_type": "markdown",
   "metadata": {},
   "source": [
    "#### llenado de dataframe (DataTrain)... con valores calculdos en la funcipn"
   ]
  },
  {
   "cell_type": "code",
   "execution_count": 19,
   "metadata": {},
   "outputs": [],
   "source": [
    "Interacciones = pd.DataFrame(columns=['NumInteraccion', 'Beta0','Beta1','Alfa', 'ResultadoError','GradienteBeta1','GradienteBeta0','nuevoBeta0','nuevoBeta1'])\n",
    "\n",
    "for i in range(15):\n",
    "       if Interacciones.empty==True:\n",
    "            alfa=0.15\n",
    "            betacero=1\n",
    "            betauno=1\n",
    "            DataPaso=pd.DataFrame(columns=['x', 'y','Ciclo','EstimadoY', 'Error','ErrorCuadrado','GradienteBeta1'])\n",
    "            DataPaso['x']=dataTrain['x']\n",
    "            DataPaso['y']=dataTrain['y']\n",
    "            DataPaso['Ciclo']=i\n",
    "            DataPaso['EstimadoY']=dataTrain['x']*betauno+betacero\n",
    "            DataPaso['Error']    =dataTrain['y']-DataPaso['EstimadoY']\n",
    "            DataPaso['ErrorCuadrado']=DataPaso['Error']*DataPaso['Error']\n",
    "            DataPaso['GradienteBeta1']=(DataPaso['EstimadoY']-dataTrain['y'])*dataTrain['x']\n",
    "            Interacciones=Interacciones.append(pd.Series([i,\n",
    "                                                            pd.Series(Calcular(i,betacero,betauno,alfa))[0],\n",
    "                                                            pd.Series(Calcular(i,betacero,betauno,alfa))[1],\n",
    "                                                            pd.Series(Calcular(i,betacero,betauno,alfa))[2],\n",
    "                                                            pd.Series(Calcular(i,betacero,betauno,alfa))[3],\n",
    "                                                            pd.Series(Calcular(i,betacero,betauno,alfa))[4],\n",
    "                                                            pd.Series(Calcular(i,betacero,betauno,alfa))[5],\n",
    "                                                            pd.Series(Calcular(i,betacero,betauno,alfa))[6],\n",
    "                                                            pd.Series(Calcular(i,betacero,betauno,alfa))[7]\n",
    "                                                            ],index=['NumInteraccion','Beta0','Beta1','Alfa','ResultadoError','GradienteBeta1','GradienteBeta0','nuevoBeta0','nuevoBeta1']),ignore_index=True)\n",
    "            \n",
    "            \n",
    "           \n",
    "       else:\n",
    "            DataPaso=pd.DataFrame(columns=['x', 'y','Ciclo','EstimadoY', 'Error','ErrorCuadrado','GradienteBeta1'])\n",
    "            betacero=Interacciones.loc[Interacciones.index[-1], 'nuevoBeta0']\n",
    "            betauno=Interacciones.loc[Interacciones.index[-1], 'nuevoBeta1']\n",
    "            DataPaso['x']=dataTrain['x']\n",
    "            DataPaso['y']=dataTrain['y']\n",
    "            DataPaso['Ciclo']=i\n",
    "            DataPaso['EstimadoY']=dataTrain['x']*betauno+betacero\n",
    "            DataPaso['Error']    =dataTrain['y']-DataPaso['EstimadoY']\n",
    "            DataPaso['ErrorCuadrado']=DataPaso['Error']*DataPaso['Error']\n",
    "            DataPaso['GradienteBeta1']=(DataPaso['EstimadoY']-dataTrain['y'])*dataTrain['x']\n",
    "            Interacciones=Interacciones.append(pd.Series([i,\n",
    "                                                            pd.Series(Calcular(i,betacero,betauno,alfa))[0],\n",
    "                                                            pd.Series(Calcular(i,betacero,betauno,alfa))[1],\n",
    "                                                            pd.Series(Calcular(i,betacero,betauno,alfa))[2],\n",
    "                                                            pd.Series(Calcular(i,betacero,betauno,alfa))[3],\n",
    "                                                            pd.Series(Calcular(i,betacero,betauno,alfa))[4],\n",
    "                                                            pd.Series(Calcular(i,betacero,betauno,alfa))[5],\n",
    "                                                            pd.Series(Calcular(i,betacero,betauno,alfa))[6],\n",
    "                                                            pd.Series(Calcular(i,betacero,betauno,alfa))[7]\n",
    "                                                            ],index=['NumInteraccion','Beta0','Beta1','Alfa','ResultadoError','GradienteBeta1','GradienteBeta0','nuevoBeta0','nuevoBeta1']),ignore_index=True)\n",
    "            \n"
   ]
  },
  {
   "cell_type": "code",
   "execution_count": 20,
   "metadata": {},
   "outputs": [
    {
     "data": {
      "text/html": [
       "<div>\n",
       "<style scoped>\n",
       "    .dataframe tbody tr th:only-of-type {\n",
       "        vertical-align: middle;\n",
       "    }\n",
       "\n",
       "    .dataframe tbody tr th {\n",
       "        vertical-align: top;\n",
       "    }\n",
       "\n",
       "    .dataframe thead th {\n",
       "        text-align: right;\n",
       "    }\n",
       "</style>\n",
       "<table border=\"1\" class=\"dataframe\">\n",
       "  <thead>\n",
       "    <tr style=\"text-align: right;\">\n",
       "      <th></th>\n",
       "      <th>NumInteraccion</th>\n",
       "      <th>Beta0</th>\n",
       "      <th>Beta1</th>\n",
       "      <th>Alfa</th>\n",
       "      <th>ResultadoError</th>\n",
       "      <th>GradienteBeta1</th>\n",
       "      <th>GradienteBeta0</th>\n",
       "      <th>nuevoBeta0</th>\n",
       "      <th>nuevoBeta1</th>\n",
       "    </tr>\n",
       "  </thead>\n",
       "  <tbody>\n",
       "    <tr>\n",
       "      <th>0</th>\n",
       "      <td>0.0</td>\n",
       "      <td>1.000000e+00</td>\n",
       "      <td>1.000000e+00</td>\n",
       "      <td>0.15</td>\n",
       "      <td>1.949751e+10</td>\n",
       "      <td>3.899602e+10</td>\n",
       "      <td>-1.807120e+05</td>\n",
       "      <td>2.710780e+04</td>\n",
       "      <td>-5.849404e+09</td>\n",
       "    </tr>\n",
       "    <tr>\n",
       "      <th>1</th>\n",
       "      <td>1.0</td>\n",
       "      <td>2.710780e+04</td>\n",
       "      <td>-5.849404e+09</td>\n",
       "      <td>0.15</td>\n",
       "      <td>6.671519e+29</td>\n",
       "      <td>-2.281094e+20</td>\n",
       "      <td>1.057087e+15</td>\n",
       "      <td>-1.585631e+14</td>\n",
       "      <td>3.421641e+19</td>\n",
       "    </tr>\n",
       "    <tr>\n",
       "      <th>2</th>\n",
       "      <td>2.0</td>\n",
       "      <td>-1.585631e+14</td>\n",
       "      <td>3.421641e+19</td>\n",
       "      <td>0.15</td>\n",
       "      <td>2.282813e+49</td>\n",
       "      <td>1.334338e+30</td>\n",
       "      <td>-6.183489e+24</td>\n",
       "      <td>9.275233e+23</td>\n",
       "      <td>-2.001508e+29</td>\n",
       "    </tr>\n",
       "    <tr>\n",
       "      <th>3</th>\n",
       "      <td>3.0</td>\n",
       "      <td>9.275233e+23</td>\n",
       "      <td>-2.001508e+29</td>\n",
       "      <td>0.15</td>\n",
       "      <td>7.811169e+68</td>\n",
       "      <td>-7.805286e+39</td>\n",
       "      <td>3.617066e+34</td>\n",
       "      <td>-5.425599e+33</td>\n",
       "      <td>1.170793e+39</td>\n",
       "    </tr>\n",
       "    <tr>\n",
       "      <th>4</th>\n",
       "      <td>4.0</td>\n",
       "      <td>-5.425599e+33</td>\n",
       "      <td>1.170793e+39</td>\n",
       "      <td>0.15</td>\n",
       "      <td>2.672771e+88</td>\n",
       "      <td>4.565745e+49</td>\n",
       "      <td>-2.115823e+44</td>\n",
       "      <td>3.173734e+43</td>\n",
       "      <td>-6.848617e+48</td>\n",
       "    </tr>\n",
       "    <tr>\n",
       "      <th>5</th>\n",
       "      <td>5.0</td>\n",
       "      <td>3.173734e+43</td>\n",
       "      <td>-6.848617e+48</td>\n",
       "      <td>0.15</td>\n",
       "      <td>9.145497e+107</td>\n",
       "      <td>-2.670757e+59</td>\n",
       "      <td>1.237662e+54</td>\n",
       "      <td>-1.856493e+53</td>\n",
       "      <td>4.006136e+58</td>\n",
       "    </tr>\n",
       "    <tr>\n",
       "      <th>6</th>\n",
       "      <td>6.0</td>\n",
       "      <td>-1.856493e+53</td>\n",
       "      <td>4.006136e+58</td>\n",
       "      <td>0.15</td>\n",
       "      <td>3.129342e+127</td>\n",
       "      <td>1.562274e+69</td>\n",
       "      <td>-7.239772e+63</td>\n",
       "      <td>1.085966e+63</td>\n",
       "      <td>-2.343411e+68</td>\n",
       "    </tr>\n",
       "    <tr>\n",
       "      <th>7</th>\n",
       "      <td>7.0</td>\n",
       "      <td>1.085966e+63</td>\n",
       "      <td>-2.343411e+68</td>\n",
       "      <td>0.15</td>\n",
       "      <td>1.070776e+147</td>\n",
       "      <td>-9.138609e+78</td>\n",
       "      <td>4.234944e+73</td>\n",
       "      <td>-6.352416e+72</td>\n",
       "      <td>1.370791e+78</td>\n",
       "    </tr>\n",
       "    <tr>\n",
       "      <th>8</th>\n",
       "      <td>8.0</td>\n",
       "      <td>-6.352416e+72</td>\n",
       "      <td>1.370791e+78</td>\n",
       "      <td>0.15</td>\n",
       "      <td>3.663906e+166</td>\n",
       "      <td>5.345679e+88</td>\n",
       "      <td>-2.477254e+83</td>\n",
       "      <td>3.715881e+82</td>\n",
       "      <td>-8.018519e+87</td>\n",
       "    </tr>\n",
       "    <tr>\n",
       "      <th>9</th>\n",
       "      <td>9.0</td>\n",
       "      <td>3.715881e+82</td>\n",
       "      <td>-8.018519e+87</td>\n",
       "      <td>0.15</td>\n",
       "      <td>1.253689e+186</td>\n",
       "      <td>-3.126985e+98</td>\n",
       "      <td>1.449083e+93</td>\n",
       "      <td>-2.173625e+92</td>\n",
       "      <td>4.690477e+97</td>\n",
       "    </tr>\n",
       "    <tr>\n",
       "      <th>10</th>\n",
       "      <td>10.0</td>\n",
       "      <td>-2.173625e+92</td>\n",
       "      <td>4.690477e+97</td>\n",
       "      <td>0.15</td>\n",
       "      <td>4.289785e+205</td>\n",
       "      <td>1.829147e+108</td>\n",
       "      <td>-8.476492e+102</td>\n",
       "      <td>1.271474e+102</td>\n",
       "      <td>-2.743720e+107</td>\n",
       "    </tr>\n",
       "    <tr>\n",
       "      <th>11</th>\n",
       "      <td>11.0</td>\n",
       "      <td>1.271474e+102</td>\n",
       "      <td>-2.743720e+107</td>\n",
       "      <td>0.15</td>\n",
       "      <td>1.467848e+225</td>\n",
       "      <td>-1.069969e+118</td>\n",
       "      <td>4.958371e+112</td>\n",
       "      <td>-7.437556e+111</td>\n",
       "      <td>1.604954e+117</td>\n",
       "    </tr>\n",
       "    <tr>\n",
       "      <th>12</th>\n",
       "      <td>12.0</td>\n",
       "      <td>-7.437556e+111</td>\n",
       "      <td>1.604954e+117</td>\n",
       "      <td>0.15</td>\n",
       "      <td>5.022580e+244</td>\n",
       "      <td>6.258845e+127</td>\n",
       "      <td>-2.900426e+122</td>\n",
       "      <td>4.350639e+121</td>\n",
       "      <td>-9.388268e+126</td>\n",
       "    </tr>\n",
       "    <tr>\n",
       "      <th>13</th>\n",
       "      <td>13.0</td>\n",
       "      <td>4.350639e+121</td>\n",
       "      <td>-9.388268e+126</td>\n",
       "      <td>0.15</td>\n",
       "      <td>1.718591e+264</td>\n",
       "      <td>-3.661146e+137</td>\n",
       "      <td>1.696620e+132</td>\n",
       "      <td>-2.544930e+131</td>\n",
       "      <td>5.491719e+136</td>\n",
       "    </tr>\n",
       "    <tr>\n",
       "      <th>14</th>\n",
       "      <td>14.0</td>\n",
       "      <td>-2.544930e+131</td>\n",
       "      <td>5.491719e+136</td>\n",
       "      <td>0.15</td>\n",
       "      <td>5.880553e+283</td>\n",
       "      <td>2.141607e+147</td>\n",
       "      <td>-9.924473e+141</td>\n",
       "      <td>1.488671e+141</td>\n",
       "      <td>-3.212411e+146</td>\n",
       "    </tr>\n",
       "  </tbody>\n",
       "</table>\n",
       "</div>"
      ],
      "text/plain": [
       "    NumInteraccion          Beta0          Beta1  Alfa  ResultadoError  \\\n",
       "0              0.0   1.000000e+00   1.000000e+00  0.15    1.949751e+10   \n",
       "1              1.0   2.710780e+04  -5.849404e+09  0.15    6.671519e+29   \n",
       "2              2.0  -1.585631e+14   3.421641e+19  0.15    2.282813e+49   \n",
       "3              3.0   9.275233e+23  -2.001508e+29  0.15    7.811169e+68   \n",
       "4              4.0  -5.425599e+33   1.170793e+39  0.15    2.672771e+88   \n",
       "5              5.0   3.173734e+43  -6.848617e+48  0.15   9.145497e+107   \n",
       "6              6.0  -1.856493e+53   4.006136e+58  0.15   3.129342e+127   \n",
       "7              7.0   1.085966e+63  -2.343411e+68  0.15   1.070776e+147   \n",
       "8              8.0  -6.352416e+72   1.370791e+78  0.15   3.663906e+166   \n",
       "9              9.0   3.715881e+82  -8.018519e+87  0.15   1.253689e+186   \n",
       "10            10.0  -2.173625e+92   4.690477e+97  0.15   4.289785e+205   \n",
       "11            11.0  1.271474e+102 -2.743720e+107  0.15   1.467848e+225   \n",
       "12            12.0 -7.437556e+111  1.604954e+117  0.15   5.022580e+244   \n",
       "13            13.0  4.350639e+121 -9.388268e+126  0.15   1.718591e+264   \n",
       "14            14.0 -2.544930e+131  5.491719e+136  0.15   5.880553e+283   \n",
       "\n",
       "    GradienteBeta1  GradienteBeta0     nuevoBeta0     nuevoBeta1  \n",
       "0     3.899602e+10   -1.807120e+05   2.710780e+04  -5.849404e+09  \n",
       "1    -2.281094e+20    1.057087e+15  -1.585631e+14   3.421641e+19  \n",
       "2     1.334338e+30   -6.183489e+24   9.275233e+23  -2.001508e+29  \n",
       "3    -7.805286e+39    3.617066e+34  -5.425599e+33   1.170793e+39  \n",
       "4     4.565745e+49   -2.115823e+44   3.173734e+43  -6.848617e+48  \n",
       "5    -2.670757e+59    1.237662e+54  -1.856493e+53   4.006136e+58  \n",
       "6     1.562274e+69   -7.239772e+63   1.085966e+63  -2.343411e+68  \n",
       "7    -9.138609e+78    4.234944e+73  -6.352416e+72   1.370791e+78  \n",
       "8     5.345679e+88   -2.477254e+83   3.715881e+82  -8.018519e+87  \n",
       "9    -3.126985e+98    1.449083e+93  -2.173625e+92   4.690477e+97  \n",
       "10   1.829147e+108  -8.476492e+102  1.271474e+102 -2.743720e+107  \n",
       "11  -1.069969e+118   4.958371e+112 -7.437556e+111  1.604954e+117  \n",
       "12   6.258845e+127  -2.900426e+122  4.350639e+121 -9.388268e+126  \n",
       "13  -3.661146e+137   1.696620e+132 -2.544930e+131  5.491719e+136  \n",
       "14   2.141607e+147  -9.924473e+141  1.488671e+141 -3.212411e+146  "
      ]
     },
     "execution_count": 20,
     "metadata": {},
     "output_type": "execute_result"
    }
   ],
   "source": [
    "Interacciones"
   ]
  },
  {
   "cell_type": "code",
   "execution_count": 21,
   "metadata": {},
   "outputs": [
    {
     "data": {
      "text/html": [
       "<div>\n",
       "<style scoped>\n",
       "    .dataframe tbody tr th:only-of-type {\n",
       "        vertical-align: middle;\n",
       "    }\n",
       "\n",
       "    .dataframe tbody tr th {\n",
       "        vertical-align: top;\n",
       "    }\n",
       "\n",
       "    .dataframe thead th {\n",
       "        text-align: right;\n",
       "    }\n",
       "</style>\n",
       "<table border=\"1\" class=\"dataframe\">\n",
       "  <thead>\n",
       "    <tr style=\"text-align: right;\">\n",
       "      <th></th>\n",
       "      <th>NumInteraccion</th>\n",
       "      <th>Beta0</th>\n",
       "      <th>Beta1</th>\n",
       "      <th>Alfa</th>\n",
       "      <th>ResultadoError</th>\n",
       "      <th>GradienteBeta1</th>\n",
       "      <th>GradienteBeta0</th>\n",
       "      <th>nuevoBeta0</th>\n",
       "      <th>nuevoBeta1</th>\n",
       "    </tr>\n",
       "  </thead>\n",
       "  <tbody>\n",
       "    <tr>\n",
       "      <th>0</th>\n",
       "      <td>0.0</td>\n",
       "      <td>1.0</td>\n",
       "      <td>1.0</td>\n",
       "      <td>0.15</td>\n",
       "      <td>1.949751e+10</td>\n",
       "      <td>3.899602e+10</td>\n",
       "      <td>-180711.976027</td>\n",
       "      <td>27107.796404</td>\n",
       "      <td>-5.849404e+09</td>\n",
       "    </tr>\n",
       "  </tbody>\n",
       "</table>\n",
       "</div>"
      ],
      "text/plain": [
       "   NumInteraccion  Beta0  Beta1  Alfa  ResultadoError  GradienteBeta1  \\\n",
       "0             0.0    1.0    1.0  0.15    1.949751e+10    3.899602e+10   \n",
       "\n",
       "   GradienteBeta0    nuevoBeta0    nuevoBeta1  \n",
       "0  -180711.976027  27107.796404 -5.849404e+09  "
      ]
     },
     "execution_count": 21,
     "metadata": {},
     "output_type": "execute_result"
    }
   ],
   "source": [
    "betaTrain= pd.DataFrame() \n",
    "\n",
    "df = Interacciones['ResultadoError'] <= min(Interacciones.ResultadoError)\n",
    "betaTrain=Interacciones.loc[df]\n",
    "betaTrain"
   ]
  },
  {
   "cell_type": "code",
   "execution_count": 22,
   "metadata": {},
   "outputs": [
    {
     "data": {
      "text/plain": [
       "1.0"
      ]
     },
     "execution_count": 22,
     "metadata": {},
     "output_type": "execute_result"
    }
   ],
   "source": [
    "#a= betaTrain['Beta0']\n",
    "a=max(betaTrain.Beta0)\n",
    "a\n",
    "#b= betaTrain['Beta1']\n",
    "b=max(betaTrain.Beta1)\n",
    "b"
   ]
  },
  {
   "cell_type": "markdown",
   "metadata": {},
   "source": [
    "### Graficando Regresión DataTrain"
   ]
  },
  {
   "cell_type": "code",
   "execution_count": 23,
   "metadata": {},
   "outputs": [
    {
     "data": {
      "text/plain": [
       "<function matplotlib.pyplot.show(close=None, block=None)>"
      ]
     },
     "execution_count": 23,
     "metadata": {},
     "output_type": "execute_result"
    },
    {
     "data": {
      "image/png": "[encoded data removed]",
      "text/plain": [
       "<Figure size 1152x648 with 1 Axes>"
      ]
     },
     "metadata": {},
     "output_type": "display_data"
    }
   ],
   "source": [
    "plt.plot(x,y,'o',label='Datos')\n",
    "plt.plot(x, b*x + a, label='Ajustes')\n",
    "plt.xlabel('x')\n",
    "plt.ylabel('y')\n",
    "plt.title('Regresion Data Train ---- Correlación: '+ str(ycorr.corr(xcorr)))\n",
    "plt.grid()\n",
    "plt.legend()\n",
    "plt.show"
   ]
  },
  {
   "cell_type": "code",
   "execution_count": 25,
   "metadata": {},
   "outputs": [
    {
     "data": {
      "text/plain": [
       "Text(0.5, 1.0, 'Analizando Error')"
      ]
     },
     "execution_count": 25,
     "metadata": {},
     "output_type": "execute_result"
    },
    {
     "data": {
      "image/png": "[encoded data removed]",
      "text/plain": [
       "<Figure size 1152x648 with 1 Axes>"
      ]
     },
     "metadata": {},
     "output_type": "display_data"
    }
   ],
   "source": [
    "x1 = Interacciones[\"NumInteraccion\"]\n",
    "y1 = Interacciones[\"ResultadoError\"]\n",
    "plt.plot(x1, y1, color='r', marker = '*', linestyle = 'dashed', label='Error')\n",
    "#poner etiqueta al eje x\n",
    "plt.xlabel('Interaccion')\n",
    "#poner etiqueta al eje y\n",
    "plt.ylabel('Error')\n",
    "#mostrar leyenda\n",
    "plt.legend()\n",
    "plt.title('Analizando Error')"
   ]
  },
  {
   "cell_type": "markdown",
   "metadata": {},
   "source": [
    "## Analizando DataTest"
   ]
  },
  {
   "cell_type": "code",
   "execution_count": 26,
   "metadata": {},
   "outputs": [
    {
     "data": {
      "text/html": [
       "<div>\n",
       "<style scoped>\n",
       "    .dataframe tbody tr th:only-of-type {\n",
       "        vertical-align: middle;\n",
       "    }\n",
       "\n",
       "    .dataframe tbody tr th {\n",
       "        vertical-align: top;\n",
       "    }\n",
       "\n",
       "    .dataframe thead th {\n",
       "        text-align: right;\n",
       "    }\n",
       "</style>\n",
       "<table border=\"1\" class=\"dataframe\">\n",
       "  <thead>\n",
       "    <tr style=\"text-align: right;\">\n",
       "      <th></th>\n",
       "      <th>x</th>\n",
       "      <th>y</th>\n",
       "    </tr>\n",
       "  </thead>\n",
       "  <tbody>\n",
       "    <tr>\n",
       "      <th>count</th>\n",
       "      <td>292.000000</td>\n",
       "      <td>292.000000</td>\n",
       "    </tr>\n",
       "    <tr>\n",
       "      <th>mean</th>\n",
       "      <td>181737.702055</td>\n",
       "      <td>6.123288</td>\n",
       "    </tr>\n",
       "    <tr>\n",
       "      <th>std</th>\n",
       "      <td>78745.480984</td>\n",
       "      <td>1.304975</td>\n",
       "    </tr>\n",
       "    <tr>\n",
       "      <th>min</th>\n",
       "      <td>37900.000000</td>\n",
       "      <td>3.000000</td>\n",
       "    </tr>\n",
       "    <tr>\n",
       "      <th>25%</th>\n",
       "      <td>130000.000000</td>\n",
       "      <td>5.000000</td>\n",
       "    </tr>\n",
       "    <tr>\n",
       "      <th>50%</th>\n",
       "      <td>165500.000000</td>\n",
       "      <td>6.000000</td>\n",
       "    </tr>\n",
       "    <tr>\n",
       "      <th>75%</th>\n",
       "      <td>215000.000000</td>\n",
       "      <td>7.000000</td>\n",
       "    </tr>\n",
       "    <tr>\n",
       "      <th>max</th>\n",
       "      <td>625000.000000</td>\n",
       "      <td>10.000000</td>\n",
       "    </tr>\n",
       "  </tbody>\n",
       "</table>\n",
       "</div>"
      ],
      "text/plain": [
       "                   x           y\n",
       "count     292.000000  292.000000\n",
       "mean   181737.702055    6.123288\n",
       "std     78745.480984    1.304975\n",
       "min     37900.000000    3.000000\n",
       "25%    130000.000000    5.000000\n",
       "50%    165500.000000    6.000000\n",
       "75%    215000.000000    7.000000\n",
       "max    625000.000000   10.000000"
      ]
     },
     "execution_count": 26,
     "metadata": {},
     "output_type": "execute_result"
    }
   ],
   "source": [
    "dataTest.describe()"
   ]
  },
  {
   "cell_type": "code",
   "execution_count": 27,
   "metadata": {},
   "outputs": [
    {
     "data": {
      "image/png": "[encoded data removed]",
      "text/plain": [
       "<Figure size 1152x648 with 2 Axes>"
      ]
     },
     "metadata": {},
     "output_type": "display_data"
    }
   ],
   "source": [
    "dataTest.hist()\n",
    "plt.show()"
   ]
  },
  {
   "cell_type": "code",
   "execution_count": 28,
   "metadata": {},
   "outputs": [
    {
     "name": "stderr",
     "output_type": "stream",
     "text": [
      "C:\\Users\\Usuario\\anaconda3\\lib\\site-packages\\seaborn\\distributions.py:2551: FutureWarning: `distplot` is a deprecated function and will be removed in a future version. Please adapt your code to use either `displot` (a figure-level function with similar flexibility) or `histplot` (an axes-level function for histograms).\n",
      "  warnings.warn(msg, FutureWarning)\n",
      "C:\\Users\\Usuario\\anaconda3\\lib\\site-packages\\seaborn\\distributions.py:2055: FutureWarning: The `axis` variable is no longer used and will be removed. Instead, assign variables directly to `x` or `y`.\n",
      "  warnings.warn(msg, FutureWarning)\n"
     ]
    },
    {
     "data": {
      "image/png": "[encoded data removed]",
      "text/plain": [
       "<Figure size 1152x648 with 1 Axes>"
      ]
     },
     "metadata": {},
     "output_type": "display_data"
    }
   ],
   "source": [
    "ax = sns.distplot(X_test, rug=True, rug_kws={\"color\": \"b\"},\n",
    "                  kde_kws={\"color\": \"k\", \"lw\": 3, \"label\": \"KDE\"},\n",
    "                  hist_kws={\"histtype\": \"step\", \"linewidth\": 3,\n",
    "                            \"alpha\": 1, \"color\": \"b\"})"
   ]
  },
  {
   "cell_type": "code",
   "execution_count": 29,
   "metadata": {},
   "outputs": [
    {
     "name": "stdout",
     "output_type": "stream",
     "text": [
      "0.8008044334326888 82291.40112036905\n"
     ]
    }
   ],
   "source": [
    "xcorr = dataTest[\"x\"]\n",
    "ycorr = dataTest[\"y\"] \n",
    "## creando correlacion y covarianza\n",
    "print(ycorr.corr(xcorr),ycorr.cov(xcorr))"
   ]
  },
  {
   "cell_type": "code",
   "execution_count": 30,
   "metadata": {},
   "outputs": [
    {
     "data": {
      "image/png": "[encoded data removed]",
      "text/plain": [
       "<Figure size 1152x648 with 1 Axes>"
      ]
     },
     "metadata": {},
     "output_type": "display_data"
    }
   ],
   "source": [
    "## Graficando Correlacion\n",
    "x = dataTest[\"x\"]\n",
    "y = dataTest[\"y\"]\n",
    "\n",
    "plt.scatter(x,y)\n",
    "plt.xlabel(\"Valor x\")\n",
    "plt.ylabel(\"Valor y\")\n",
    "plt.show()"
   ]
  },
  {
   "cell_type": "code",
   "execution_count": 35,
   "metadata": {},
   "outputs": [
    {
     "data": {
      "text/plain": [
       "LinearRegression()"
      ]
     },
     "execution_count": 35,
     "metadata": {},
     "output_type": "execute_result"
    }
   ],
   "source": [
    "xTest = dataTest[\"x\"].values.reshape(-1,1)\n",
    "yTest = dataTest[\"y\"].values.reshape(-1,1)\n",
    "\n",
    "lm_2 = LinearRegression()\n",
    "lm_2.fit(xTest,yTest)"
   ]
  },
  {
   "cell_type": "code",
   "execution_count": 36,
   "metadata": {},
   "outputs": [
    {
     "data": {
      "text/plain": [
       "array([[1.32709856e-05]])"
      ]
     },
     "execution_count": 36,
     "metadata": {},
     "output_type": "execute_result"
    }
   ],
   "source": [
    "lm_2.coef_"
   ]
  },
  {
   "cell_type": "code",
   "execution_count": 37,
   "metadata": {},
   "outputs": [
    {
     "data": {
      "text/plain": [
       "array([3.71144925])"
      ]
     },
     "execution_count": 37,
     "metadata": {},
     "output_type": "execute_result"
    }
   ],
   "source": [
    "lm_2.intercept_"
   ]
  },
  {
   "cell_type": "markdown",
   "metadata": {},
   "source": [
    "### Graficando Regresión DataTest"
   ]
  },
  {
   "cell_type": "code",
   "execution_count": 39,
   "metadata": {},
   "outputs": [
    {
     "data": {
      "text/plain": [
       "<function matplotlib.pyplot.show(close=None, block=None)>"
      ]
     },
     "execution_count": 39,
     "metadata": {},
     "output_type": "execute_result"
    },
    {
     "data": {
      "image/png": "[encoded data removed]",
      "text/plain": [
       "<Figure size 1152x648 with 1 Axes>"
      ]
     },
     "metadata": {},
     "output_type": "display_data"
    }
   ],
   "source": [
    "plt.plot(x,y,'o',label='Datos Test')\n",
    "plt.plot(x, b*x + a, label='Ajustes')\n",
    "plt.xlabel('x')\n",
    "plt.ylabel('y')\n",
    "plt.title('Regresion Data Train ---- Correlación: '+ str(ycorr.corr(xcorr)))\n",
    "plt.grid()\n",
    "plt.legend()\n",
    "plt.show"
   ]
  },
  {
   "cell_type": "code",
   "execution_count": null,
   "metadata": {},
   "outputs": [],
   "source": []
  }
 ],
 "metadata": {
  "kernelspec": {
   "display_name": "Python 3",
   "language": "python",
   "name": "python3"
  },
  "language_info": {
   "codemirror_mode": {
    "name": "ipython",
    "version": 3
   },
   "file_extension": ".py",
   "mimetype": "text/x-python",
   "name": "python",
   "nbconvert_exporter": "python",
   "pygments_lexer": "ipython3",
   "version": "3.8.5"
  }
 },
 "nbformat": 4,
 "nbformat_minor": 4
}
